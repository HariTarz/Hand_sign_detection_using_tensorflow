{
  "nbformat": 4,
  "nbformat_minor": 0,
  "metadata": {
    "colab": {
      "provenance": [],
      "collapsed_sections": [],
      "authorship_tag": "ABX9TyPh5FmT1fPK4nue8A5Ces92",
      "include_colab_link": true
    },
    "kernelspec": {
      "name": "python3",
      "display_name": "Python 3"
    },
    "language_info": {
      "name": "python"
    }
  },
  "cells": [
    {
      "cell_type": "markdown",
      "metadata": {
        "id": "view-in-github",
        "colab_type": "text"
      },
      "source": [
        "<a href=\"https://colab.research.google.com/github/HariTarz/Hand_sign_detection_using_tensorflow/blob/main/Hand_sign_detection_using_tensorflow.ipynb\" target=\"_parent\"><img src=\"https://colab.research.google.com/assets/colab-badge.svg\" alt=\"Open In Colab\"/></a>"
      ]
    },
    {
      "cell_type": "markdown",
      "source": [
        "# <b>Preparation of dataset</b>"
      ],
      "metadata": {
        "id": "gXxG-AayMs9m"
      }
    },
    {
      "cell_type": "markdown",
      "source": [
        "## <b>1.Collecting realtime images for training and testing</b>"
      ],
      "metadata": {
        "id": "MK3BrzdFM7Ql"
      }
    },
    {
      "cell_type": "markdown",
      "source": [
        "### <b>Import dependencies</b>"
      ],
      "metadata": {
        "id": "ISCHRitpNdV8"
      }
    },
    {
      "cell_type": "code",
      "source": [
        "# !pip install opencv-python"
      ],
      "metadata": {
        "id": "9S0pVnR7Ojj1"
      },
      "execution_count": 1,
      "outputs": []
    },
    {
      "cell_type": "code",
      "execution_count": 2,
      "metadata": {
        "id": "Z0VlcgHOJxxv"
      },
      "outputs": [],
      "source": [
        "# Import opencv\n",
        "import cv2 \n",
        "\n",
        "# Import uuid\n",
        "import uuid\n",
        "\n",
        "# Import Operating System\n",
        "import os\n",
        "\n",
        "# Import time\n",
        "import time"
      ]
    },
    {
      "cell_type": "markdown",
      "source": [
        "### <b>Setup folders for images</b>"
      ],
      "metadata": {
        "id": "mGwKT5hGQ8TX"
      }
    },
    {
      "cell_type": "code",
      "source": [
        "BASE_PATH = os.path.join('Object_detection', 'Tensorslow')\n",
        "IMAGES_PATH = os.path.join(BASE_PATH, 'workspace', 'images')\n",
        "print(IMAGES_PATH)"
      ],
      "metadata": {
        "colab": {
          "base_uri": "https://localhost:8080/"
        },
        "id": "tQnhbX8ZRej_",
        "outputId": "f9c58a2c-c3e6-4e7a-f162-76f96e304122"
      },
      "execution_count": 4,
      "outputs": [
        {
          "output_type": "stream",
          "name": "stdout",
          "text": [
            "Object_detection/Tensorslow/workspace/images\n"
          ]
        }
      ]
    },
    {
      "cell_type": "code",
      "source": [
        "if not os.path.exists(IMAGES_PATH):\n",
        "  if os.name == 'posix': #For Linux\n",
        "    !mkdir -p {IMAGES_PATH+'/train'} {IMAGES_PATH+'/test'}\n",
        "  if os.name == 'nt': # For Windows\n",
        "    !mkdir {IMAGES_PATH+'/train'} {IMAGES_PATH+'/test'}"
      ],
      "metadata": {
        "id": "ijGXHxyFSj4o"
      },
      "execution_count": 10,
      "outputs": []
    },
    {
      "cell_type": "markdown",
      "source": [
        "### <b>Capturing images for different labels</b>"
      ],
      "metadata": {
        "id": "UCFlwaOiVhwx"
      }
    },
    {
      "cell_type": "code",
      "source": [
        "labels = ['peace', 'thumbsup', 'thumbsdown', 'thankyou', 'livelong', 'vanakkam']\n",
        "\n",
        "num_img_for_train = 7\n",
        "num_img_for_train 3\n",
        "total_images = num_img_for_train + num_img_for_train"
      ],
      "metadata": {
        "id": "kQ2aoIXOQ5v_"
      },
      "execution_count": null,
      "outputs": []
    },
    {
      "cell_type": "code",
      "source": [
        "for label in labels:\n",
        "    cap = cv2.VideoCapture(0)\n",
        "    if not cap.isOpened():\n",
        "      print(\"Can't open camera capture\")\n",
        "\n",
        "    print('Collecting images for {}'.format(label))\n",
        "    time.sleep(5)\n",
        "    for imgnum in range(total_images):\n",
        "        print('Capturing image - {}'.format(imgnum))\n",
        "        ret, frame = cap.read()\n",
        "\n",
        "        if imgnum < num_img_for_train:\n",
        "          folder = 'train'\n",
        "        else:\n",
        "          folder = 'test'\n",
        "\n",
        "        imgname = os.path.join(IMAGES_PATH, folder, label+'.'+'{}.jpg'.format(str(uuid.uuid1())))\n",
        "        cv2.imwrite(imgname, frame)\n",
        "        cv2.imshow('frame', frame)\n",
        "        time.sleep(2)\n",
        "\n",
        "        if cv2.waitKey(1) & 0xFF == ord('q'):\n",
        "            break\n",
        "cap.release()\n",
        "cv2.destroyAllWindows()"
      ],
      "metadata": {
        "id": "YeE4NtcnVF53"
      },
      "execution_count": null,
      "outputs": []
    },
    {
      "cell_type": "markdown",
      "source": [
        "### <b>Labeling images</b>"
      ],
      "metadata": {
        "id": "TtDjUPfEV4PM"
      }
    },
    {
      "cell_type": "code",
      "source": [
        "# Installing labeling dependencies\n",
        "# !pip install --upgrade pyqt5 lxml"
      ],
      "metadata": {
        "id": "WxCoWxDIc0KT"
      },
      "execution_count": null,
      "outputs": []
    },
    {
      "cell_type": "code",
      "source": [
        "LABELIMG_PACKAGE_PATH = os.path.join(BASE_PATH, 'labeling')"
      ],
      "metadata": {
        "id": "2L1KSlRJc7r0"
      },
      "execution_count": null,
      "outputs": []
    },
    {
      "cell_type": "code",
      "source": [
        "if not os.path.exists(LABELIMG_PACKAGE_PATH):\n",
        "    !mkdir {LABELIMG_PATH}\n",
        "    !git clone https://github.com/tzutalin/labelImg {LABELIMG_PATH}"
      ],
      "metadata": {
        "id": "CO6I97aEdSEb"
      },
      "execution_count": null,
      "outputs": []
    },
    {
      "cell_type": "code",
      "source": [
        "if os.name == 'posix':\n",
        "    !make qt5py3\n",
        "if os.name =='nt':\n",
        "    !cd {LABELIMG_PATH} && pyrcc5 -o libs/resources.py resources.qrc"
      ],
      "metadata": {
        "id": "I9lYzSIVdj8b"
      },
      "execution_count": null,
      "outputs": []
    },
    {
      "cell_type": "code",
      "source": [
        "# Command to open the labeling package \n",
        "!cd {LABELIMG_PATH} && python labelImg.py"
      ],
      "metadata": {
        "id": "lGWFZq6Bdn3D"
      },
      "execution_count": null,
      "outputs": []
    },
    {
      "cell_type": "markdown",
      "source": [
        "### <b>Compress the train and test folders for google colab (optional)</b>"
      ],
      "metadata": {
        "id": "xFtfg1oweSDE"
      }
    },
    {
      "cell_type": "code",
      "source": [
        "TRAIN_PATH = os.path.join('Tensorflow', 'workspace', 'images', 'train')\n",
        "TEST_PATH = os.path.join('Tensorflow', 'workspace', 'images', 'test')\n",
        "ARCHIVE_PATH = os.path.join('Tensorflow', 'workspace', 'images', 'archive.tar.gz')"
      ],
      "metadata": {
        "id": "vIKNS1ZFeprL"
      },
      "execution_count": null,
      "outputs": []
    },
    {
      "cell_type": "code",
      "source": [
        "!tar -czf {ARCHIVE_PATH} {TRAIN_PATH} {TEST_PATH}"
      ],
      "metadata": {
        "id": "GKCPylM5fO80"
      },
      "execution_count": null,
      "outputs": []
    },
    {
      "cell_type": "markdown",
      "source": [
        "## <b>2.Training and Detection</b>"
      ],
      "metadata": {
        "id": "pKkh2hvFfg3c"
      }
    },
    {
      "cell_type": "markdown",
      "source": [
        "### <b>Setup paths</b>"
      ],
      "metadata": {
        "id": "0YbcOtZUgAzk"
      }
    },
    {
      "cell_type": "code",
      "source": [
        "# Setting up pre-trained model path and link\n",
        "CUSTOM_MODEL_NAME = 'my_ssd_mobnet' \n",
        "PRETRAINED_MODEL_NAME = 'ssd_mobilenet_v2_fpnlite_320x320_coco17_tpu-8'          # Name in models zoo: SSD MobileNet V2 FPNLite 320x320\n",
        "PRETRAINED_MODEL_URL = 'http://download.tensorflow.org/models/object_detection/tf2/20200711/ssd_mobilenet_v2_fpnlite_320x320_coco17_tpu-8.tar.gz'\n",
        "\n",
        "# Link for tensorflow models zoo: https://github.com/tensorflow/models/blob/master/research/object_detection/g3doc/tf2_detection_zoo.md"
      ],
      "metadata": {
        "id": "GXMppAcJfpoi"
      },
      "execution_count": null,
      "outputs": []
    },
    {
      "cell_type": "code",
      "source": [
        "# Import Operating System\n",
        "import os"
      ],
      "metadata": {
        "id": "O4zyGoL2l1_n"
      },
      "execution_count": null,
      "outputs": []
    },
    {
      "cell_type": "code",
      "source": [
        "# Paths for different directories\n",
        "BASE_PATH = os.path.join('Object_detection', 'Tensorslow') # Should be same as the previous BASE_PATH \n",
        "paths = {\n",
        "    'WORKSPACE_PATH': os.path.join(BASE_PATH, 'workspace'),\n",
        "    'SCRIPTS_PATH': os.path.join(BASE_PATH,'scripts'),\n",
        "    'APIMODEL_PATH': os.path.join(BASE_PATH,'models'),\n",
        "    'ANNOTATION_PATH': os.path.join(BASE_PATH, 'workspace','annotations'),\n",
        "    'IMAGE_PATH': os.path.join(BASE_PATH, 'workspace','images'),\n",
        "    'MODEL_PATH': os.path.join(BASE_PATH, 'workspace','models'),\n",
        "    'PRETRAINED_MODEL_PATH': os.path.join(BASE_PATH, 'workspace','pre-trained-models'),\n",
        "    'CHECKPOINT_PATH': os.path.join(BASE_PATH, 'workspace','models',CUSTOM_MODEL_NAME), \n",
        "    'OUTPUT_PATH': os.path.join(BASE_PATH, 'workspace','models',CUSTOM_MODEL_NAME, 'export'), \n",
        "    'TFJS_PATH':os.path.join(BASE_PATH, 'workspace','models',CUSTOM_MODEL_NAME, 'tfjsexport'), \n",
        "    'TFLITE_PATH':os.path.join(BASE_PATH, 'workspace','models',CUSTOM_MODEL_NAME, 'tfliteexport'), \n",
        "    'PROTOC_PATH':os.path.join(BASE_PATH,'protoc')\n",
        " }"
      ],
      "metadata": {
        "id": "4Pim0-1BhqZd"
      },
      "execution_count": null,
      "outputs": []
    },
    {
      "cell_type": "code",
      "source": [
        "for path in paths.values():\n",
        "    if not os.path.exists(path):\n",
        "        if os.name == 'posix':\n",
        "            !mkdir -p {path}\n",
        "        if os.name == 'nt':\n",
        "            !mkdir {path}"
      ],
      "metadata": {
        "id": "8G0AvPmji9Wl"
      },
      "execution_count": null,
      "outputs": []
    },
    {
      "cell_type": "code",
      "source": [
        "# TFrecord file generater name\n",
        "TF_RECORD_SCRIPT_NAME = 'generate_tfrecord.py'\n",
        "\n",
        "# Image-label match '.pbtext' file name\n",
        "LABEL_MAP_NAME = 'label_map.pbtxt'"
      ],
      "metadata": {
        "id": "OIyy6MYxh2TN"
      },
      "execution_count": null,
      "outputs": []
    },
    {
      "cell_type": "code",
      "source": [
        "# Some important file paths \n",
        "files = {\n",
        "    'PIPELINE_CONFIG':os.path.join('Tensorflow', 'workspace','models', CUSTOM_MODEL_NAME, 'pipeline.config'),\n",
        "    'TF_RECORD_SCRIPT': os.path.join(paths['SCRIPTS_PATH'], TF_RECORD_SCRIPT_NAME), \n",
        "    'LABELMAP': os.path.join(paths['ANNOTATION_PATH'], LABEL_MAP_NAME)\n",
        "}"
      ],
      "metadata": {
        "id": "Twt1CDUVifGo"
      },
      "execution_count": null,
      "outputs": []
    },
    {
      "cell_type": "code",
      "source": [
        "for path in paths.values():\n",
        "    if not os.path.exists(path):\n",
        "        if os.name == 'posix':\n",
        "            !mkdir -p {path}\n",
        "        if os.name == 'nt':\n",
        "            !mkdir {path}"
      ],
      "metadata": {
        "id": "l-MVBViooH6t"
      },
      "execution_count": null,
      "outputs": []
    },
    {
      "cell_type": "markdown",
      "source": [
        "### <b>Install tenforflow object detection API and all their dependencies</b>"
      ],
      "metadata": {
        "id": "QwbIbwHyoGtM"
      }
    },
    {
      "cell_type": "code",
      "source": [
        "# !pip install wget\n",
        "import wget"
      ],
      "metadata": {
        "id": "OBeaR61ojUym"
      },
      "execution_count": null,
      "outputs": []
    },
    {
      "cell_type": "code",
      "source": [
        "if not os.path.exists(os.path.join(paths['APIMODEL_PATH'], 'research', 'object_detection')):\n",
        "    !git clone https://github.com/tensorflow/models {paths['APIMODEL_PATH']}"
      ],
      "metadata": {
        "id": "p8vPRKStq_up"
      },
      "execution_count": null,
      "outputs": []
    },
    {
      "cell_type": "code",
      "source": [
        "# Install Tensorflow Object Detection \n",
        "if os.name=='posix':  \n",
        "    !apt-get install protobuf-compiler\n",
        "    !cd Tensorflow/models/research && protoc object_detection/protos/*.proto --python_out=. && cp object_detection/packages/tf2/setup.py . && python -m pip install . \n",
        "    \n",
        "if os.name=='nt':\n",
        "    url=\"https://github.com/protocolbuffers/protobuf/releases/download/v3.15.6/protoc-3.15.6-win64.zip\"\n",
        "    wget.download(url)\n",
        "    !move protoc-3.15.6-win64.zip {paths['PROTOC_PATH']}\n",
        "    !cd {paths['PROTOC_PATH']} && tar -xf protoc-3.15.6-win64.zip\n",
        "    os.environ['PATH'] += os.pathsep + os.path.abspath(os.path.join(paths['PROTOC_PATH'], 'bin'))   \n",
        "    !cd Tensorflow/models/research && protoc object_detection/protos/*.proto --python_out=. && copy object_detection\\\\packages\\\\tf2\\\\setup.py setup.py && python setup.py build && python setup.py install\n",
        "    !cd Tensorflow/models/research/slim && pip install -e . "
      ],
      "metadata": {
        "id": "cdYIYO4PrGnY"
      },
      "execution_count": null,
      "outputs": []
    }
  ]
}